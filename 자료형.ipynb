{
 "cells": [
  {
   "cell_type": "code",
   "execution_count": 1,
   "id": "3785760e",
   "metadata": {
    "ExecuteTime": {
     "end_time": "2021-05-25T00:38:16.885653Z",
     "start_time": "2021-05-25T00:38:16.880773Z"
    }
   },
   "outputs": [],
   "source": [
    "a = True\n",
    "b = False"
   ]
  },
  {
   "cell_type": "code",
   "execution_count": 2,
   "id": "77d43b5e",
   "metadata": {
    "ExecuteTime": {
     "end_time": "2021-05-25T00:38:32.437295Z",
     "start_time": "2021-05-25T00:38:32.431441Z"
    }
   },
   "outputs": [
    {
     "name": "stdout",
     "output_type": "stream",
     "text": [
      "<class 'bool'>\n"
     ]
    }
   ],
   "source": [
    "print(type(a))"
   ]
  },
  {
   "cell_type": "code",
   "execution_count": 3,
   "id": "c3f8888b",
   "metadata": {
    "ExecuteTime": {
     "end_time": "2021-05-25T00:39:39.420048Z",
     "start_time": "2021-05-25T00:39:39.401506Z"
    }
   },
   "outputs": [
    {
     "data": {
      "text/plain": [
       "True"
      ]
     },
     "execution_count": 3,
     "metadata": {},
     "output_type": "execute_result"
    }
   ],
   "source": [
    "1 == 1"
   ]
  },
  {
   "cell_type": "code",
   "execution_count": 4,
   "id": "ce8f1d23",
   "metadata": {
    "ExecuteTime": {
     "end_time": "2021-05-25T00:41:47.240912Z",
     "start_time": "2021-05-25T00:41:47.234082Z"
    }
   },
   "outputs": [
    {
     "data": {
      "text/plain": [
       "True"
      ]
     },
     "execution_count": 4,
     "metadata": {},
     "output_type": "execute_result"
    }
   ],
   "source": [
    "bool('python')"
   ]
  },
  {
   "cell_type": "code",
   "execution_count": 5,
   "id": "1db0b870",
   "metadata": {
    "ExecuteTime": {
     "end_time": "2021-05-25T00:42:04.385154Z",
     "start_time": "2021-05-25T00:42:04.380273Z"
    }
   },
   "outputs": [
    {
     "data": {
      "text/plain": [
       "True"
      ]
     },
     "execution_count": 5,
     "metadata": {},
     "output_type": "execute_result"
    }
   ],
   "source": [
    "bool('pyn')"
   ]
  },
  {
   "cell_type": "code",
   "execution_count": 6,
   "id": "08592076",
   "metadata": {
    "ExecuteTime": {
     "end_time": "2021-05-25T00:42:08.979953Z",
     "start_time": "2021-05-25T00:42:08.973121Z"
    }
   },
   "outputs": [
    {
     "data": {
      "text/plain": [
       "False"
      ]
     },
     "execution_count": 6,
     "metadata": {},
     "output_type": "execute_result"
    }
   ],
   "source": [
    "bool('')"
   ]
  },
  {
   "cell_type": "code",
   "execution_count": 7,
   "id": "1199bc23",
   "metadata": {
    "ExecuteTime": {
     "end_time": "2021-05-25T00:43:05.405220Z",
     "start_time": "2021-05-25T00:43:05.399363Z"
    }
   },
   "outputs": [
    {
     "name": "stdout",
     "output_type": "stream",
     "text": [
      "3\n"
     ]
    }
   ],
   "source": [
    "if \"dddd\":\n",
    "    print(3)\n",
    "else:\n",
    "    print(5)"
   ]
  },
  {
   "cell_type": "code",
   "execution_count": 14,
   "id": "e6bb4f2c",
   "metadata": {
    "ExecuteTime": {
     "end_time": "2021-05-25T00:45:57.430181Z",
     "start_time": "2021-05-25T00:45:57.424326Z"
    }
   },
   "outputs": [
    {
     "data": {
      "text/plain": [
       "False"
      ]
     },
     "execution_count": 14,
     "metadata": {},
     "output_type": "execute_result"
    }
   ],
   "source": [
    "bool(None)"
   ]
  },
  {
   "cell_type": "code",
   "execution_count": 16,
   "id": "07faf023",
   "metadata": {
    "ExecuteTime": {
     "end_time": "2021-05-25T00:46:34.209689Z",
     "start_time": "2021-05-25T00:46:34.202860Z"
    }
   },
   "outputs": [
    {
     "data": {
      "text/plain": [
       "float"
      ]
     },
     "execution_count": 16,
     "metadata": {},
     "output_type": "execute_result"
    }
   ],
   "source": [
    "pi = 3.141592\n",
    "type(pi)"
   ]
  },
  {
   "cell_type": "code",
   "execution_count": 17,
   "id": "474f5822",
   "metadata": {
    "ExecuteTime": {
     "end_time": "2021-05-25T00:46:57.626777Z",
     "start_time": "2021-05-25T00:46:57.619945Z"
    }
   },
   "outputs": [
    {
     "data": {
      "text/plain": [
       "str"
      ]
     },
     "execution_count": 17,
     "metadata": {},
     "output_type": "execute_result"
    }
   ],
   "source": [
    "message = \"Good Morning\"\n",
    "type(message)"
   ]
  },
  {
   "cell_type": "code",
   "execution_count": 19,
   "id": "adde1715",
   "metadata": {
    "ExecuteTime": {
     "end_time": "2021-05-25T05:29:53.932928Z",
     "start_time": "2021-05-25T05:29:53.926095Z"
    }
   },
   "outputs": [
    {
     "data": {
      "text/plain": [
       "str"
      ]
     },
     "execution_count": 19,
     "metadata": {},
     "output_type": "execute_result"
    }
   ],
   "source": [
    "type('abc')"
   ]
  },
  {
   "cell_type": "code",
   "execution_count": 21,
   "id": "493baa70",
   "metadata": {
    "ExecuteTime": {
     "end_time": "2021-05-25T05:54:15.838623Z",
     "start_time": "2021-05-25T05:54:13.750330Z"
    }
   },
   "outputs": [
    {
     "name": "stdout",
     "output_type": "stream",
     "text": [
      "a5\n",
      "b1\n"
     ]
    },
    {
     "data": {
      "text/plain": [
       "6"
      ]
     },
     "execution_count": 21,
     "metadata": {},
     "output_type": "execute_result"
    }
   ],
   "source": [
    "a = int(input('a'))\n",
    "b = int(input('b'))\n",
    "def two_plus():\n",
    "    return a+b\n",
    "\n",
    "two_plus()"
   ]
  },
  {
   "cell_type": "code",
   "execution_count": 23,
   "id": "2bf291f5",
   "metadata": {
    "ExecuteTime": {
     "end_time": "2021-05-25T05:57:10.268045Z",
     "start_time": "2021-05-25T05:57:10.263164Z"
    }
   },
   "outputs": [],
   "source": [
    "def two_plus(c,d):\n",
    "    return c+d"
   ]
  },
  {
   "cell_type": "code",
   "execution_count": 24,
   "id": "63827544",
   "metadata": {
    "ExecuteTime": {
     "end_time": "2021-05-25T05:57:38.106783Z",
     "start_time": "2021-05-25T05:57:35.117442Z"
    }
   },
   "outputs": [
    {
     "name": "stdout",
     "output_type": "stream",
     "text": [
      "a7\n",
      "b2\n"
     ]
    },
    {
     "data": {
      "text/plain": [
       "9"
      ]
     },
     "execution_count": 24,
     "metadata": {},
     "output_type": "execute_result"
    }
   ],
   "source": [
    "a = int(input('a'))\n",
    "b = int(input('b'))\n",
    "\n",
    "two_plus(a,b)"
   ]
  },
  {
   "cell_type": "code",
   "execution_count": 27,
   "id": "61132ca2",
   "metadata": {
    "ExecuteTime": {
     "end_time": "2021-05-25T06:48:00.142264Z",
     "start_time": "2021-05-25T06:48:00.136411Z"
    }
   },
   "outputs": [
    {
     "name": "stdout",
     "output_type": "stream",
     "text": [
      "Hello World!!\n",
      "Hello!!\n"
     ]
    }
   ],
   "source": [
    "greet = \"Hello!!\"\n",
    "\n",
    "def print_greet():\n",
    "    greet_1 = \"Hello World!!\"\n",
    "    \n",
    "    print(greet)\n",
    "    \n",
    "print_greet()\n",
    "print(greet)"
   ]
  },
  {
   "cell_type": "code",
   "execution_count": 28,
   "id": "6daef968",
   "metadata": {
    "ExecuteTime": {
     "end_time": "2021-05-25T07:58:49.264784Z",
     "start_time": "2021-05-25T07:58:49.256542Z"
    }
   },
   "outputs": [],
   "source": [
    "greet = \"Hello!!\"\n",
    "def print_greet_1():\n",
    "#     global greet_2\n",
    "    greet_2 = \"hello world\"\n",
    "    print(greet)\n",
    "\n",
    "    "
   ]
  },
  {
   "cell_type": "code",
   "execution_count": null,
   "id": "def7ac79",
   "metadata": {},
   "outputs": [],
   "source": [
    "def greet(*names):\n",
    "    for i in names:\n",
    "        print(i)\n",
    "\n",
    "greet('a','b','c')"
   ]
  }
 ],
 "metadata": {
  "hide_input": false,
  "kernelspec": {
   "display_name": "Python 3",
   "language": "python",
   "name": "python3"
  },
  "language_info": {
   "codemirror_mode": {
    "name": "ipython",
    "version": 3
   },
   "file_extension": ".py",
   "mimetype": "text/x-python",
   "name": "python",
   "nbconvert_exporter": "python",
   "pygments_lexer": "ipython3",
   "version": "3.7.9"
  },
  "toc": {
   "base_numbering": 1,
   "nav_menu": {},
   "number_sections": true,
   "sideBar": true,
   "skip_h1_title": false,
   "title_cell": "Table of Contents",
   "title_sidebar": "Contents",
   "toc_cell": false,
   "toc_position": {},
   "toc_section_display": true,
   "toc_window_display": false
  },
  "varInspector": {
   "cols": {
    "lenName": 16,
    "lenType": 16,
    "lenVar": 40
   },
   "kernels_config": {
    "python": {
     "delete_cmd_postfix": "",
     "delete_cmd_prefix": "del ",
     "library": "var_list.py",
     "varRefreshCmd": "print(var_dic_list())"
    },
    "r": {
     "delete_cmd_postfix": ") ",
     "delete_cmd_prefix": "rm(",
     "library": "var_list.r",
     "varRefreshCmd": "cat(var_dic_list()) "
    }
   },
   "types_to_exclude": [
    "module",
    "function",
    "builtin_function_or_method",
    "instance",
    "_Feature"
   ],
   "window_display": false
  }
 },
 "nbformat": 4,
 "nbformat_minor": 5
}
