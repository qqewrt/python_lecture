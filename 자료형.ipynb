{
 "cells": [
  {
   "cell_type": "code",
   "execution_count": 1,
   "id": "b7a746a8",
   "metadata": {
    "ExecuteTime": {
     "end_time": "2021-05-25T00:38:16.885653Z",
     "start_time": "2021-05-25T00:38:16.880773Z"
    }
   },
   "outputs": [],
   "source": [
    "a = True\n",
    "b = False"
   ]
  },
  {
   "cell_type": "code",
   "execution_count": 2,
   "id": "47c3d7e1",
   "metadata": {
    "ExecuteTime": {
     "end_time": "2021-05-25T00:38:32.437295Z",
     "start_time": "2021-05-25T00:38:32.431441Z"
    }
   },
   "outputs": [
    {
     "name": "stdout",
     "output_type": "stream",
     "text": [
      "<class 'bool'>\n"
     ]
    }
   ],
   "source": [
    "print(type(a))"
   ]
  },
  {
   "cell_type": "code",
   "execution_count": 3,
   "id": "b338231f",
   "metadata": {
    "ExecuteTime": {
     "end_time": "2021-05-25T00:39:39.420048Z",
     "start_time": "2021-05-25T00:39:39.401506Z"
    }
   },
   "outputs": [
    {
     "data": {
      "text/plain": [
       "True"
      ]
     },
     "execution_count": 3,
     "metadata": {},
     "output_type": "execute_result"
    }
   ],
   "source": [
    "1 == 1"
   ]
  },
  {
   "cell_type": "code",
   "execution_count": 4,
   "id": "59110c6d",
   "metadata": {
    "ExecuteTime": {
     "end_time": "2021-05-25T00:41:47.240912Z",
     "start_time": "2021-05-25T00:41:47.234082Z"
    }
   },
   "outputs": [
    {
     "data": {
      "text/plain": [
       "True"
      ]
     },
     "execution_count": 4,
     "metadata": {},
     "output_type": "execute_result"
    }
   ],
   "source": [
    "bool('python')"
   ]
  },
  {
   "cell_type": "code",
   "execution_count": 5,
   "id": "e40fde80",
   "metadata": {
    "ExecuteTime": {
     "end_time": "2021-05-25T00:42:04.385154Z",
     "start_time": "2021-05-25T00:42:04.380273Z"
    }
   },
   "outputs": [
    {
     "data": {
      "text/plain": [
       "True"
      ]
     },
     "execution_count": 5,
     "metadata": {},
     "output_type": "execute_result"
    }
   ],
   "source": [
    "bool('pyn')"
   ]
  },
  {
   "cell_type": "code",
   "execution_count": 6,
   "id": "1603764d",
   "metadata": {
    "ExecuteTime": {
     "end_time": "2021-05-25T00:42:08.979953Z",
     "start_time": "2021-05-25T00:42:08.973121Z"
    }
   },
   "outputs": [
    {
     "data": {
      "text/plain": [
       "False"
      ]
     },
     "execution_count": 6,
     "metadata": {},
     "output_type": "execute_result"
    }
   ],
   "source": [
    "bool('')"
   ]
  },
  {
   "cell_type": "code",
   "execution_count": 7,
   "id": "e8f1e3ac",
   "metadata": {
    "ExecuteTime": {
     "end_time": "2021-05-25T00:43:05.405220Z",
     "start_time": "2021-05-25T00:43:05.399363Z"
    }
   },
   "outputs": [
    {
     "name": "stdout",
     "output_type": "stream",
     "text": [
      "3\n"
     ]
    }
   ],
   "source": [
    "if \"dddd\":\n",
    "    print(3)\n",
    "else:\n",
    "    print(5)"
   ]
  },
  {
   "cell_type": "code",
   "execution_count": 14,
   "id": "4f9e90f7",
   "metadata": {
    "ExecuteTime": {
     "end_time": "2021-05-25T00:45:57.430181Z",
     "start_time": "2021-05-25T00:45:57.424326Z"
    }
   },
   "outputs": [
    {
     "data": {
      "text/plain": [
       "False"
      ]
     },
     "execution_count": 14,
     "metadata": {},
     "output_type": "execute_result"
    }
   ],
   "source": [
    "bool(None)"
   ]
  },
  {
   "cell_type": "code",
   "execution_count": 16,
   "id": "1a357f65",
   "metadata": {
    "ExecuteTime": {
     "end_time": "2021-05-25T00:46:34.209689Z",
     "start_time": "2021-05-25T00:46:34.202860Z"
    }
   },
   "outputs": [
    {
     "data": {
      "text/plain": [
       "float"
      ]
     },
     "execution_count": 16,
     "metadata": {},
     "output_type": "execute_result"
    }
   ],
   "source": [
    "pi = 3.141592\n",
    "type(pi)"
   ]
  },
  {
   "cell_type": "code",
   "execution_count": 17,
   "id": "1206209d",
   "metadata": {
    "ExecuteTime": {
     "end_time": "2021-05-25T00:46:57.626777Z",
     "start_time": "2021-05-25T00:46:57.619945Z"
    }
   },
   "outputs": [
    {
     "data": {
      "text/plain": [
       "str"
      ]
     },
     "execution_count": 17,
     "metadata": {},
     "output_type": "execute_result"
    }
   ],
   "source": [
    "message = \"Good Morning\"\n",
    "type(message)"
   ]
  },
  {
   "cell_type": "code",
   "execution_count": null,
   "id": "d1ec81a8",
   "metadata": {},
   "outputs": [],
   "source": []
  }
 ],
 "metadata": {
  "hide_input": false,
  "kernelspec": {
   "display_name": "Python 3",
   "language": "python",
   "name": "python3"
  },
  "language_info": {
   "codemirror_mode": {
    "name": "ipython",
    "version": 3
   },
   "file_extension": ".py",
   "mimetype": "text/x-python",
   "name": "python",
   "nbconvert_exporter": "python",
   "pygments_lexer": "ipython3",
   "version": "3.7.9"
  },
  "toc": {
   "base_numbering": 1,
   "nav_menu": {},
   "number_sections": true,
   "sideBar": true,
   "skip_h1_title": false,
   "title_cell": "Table of Contents",
   "title_sidebar": "Contents",
   "toc_cell": false,
   "toc_position": {},
   "toc_section_display": true,
   "toc_window_display": false
  },
  "varInspector": {
   "cols": {
    "lenName": 16,
    "lenType": 16,
    "lenVar": 40
   },
   "kernels_config": {
    "python": {
     "delete_cmd_postfix": "",
     "delete_cmd_prefix": "del ",
     "library": "var_list.py",
     "varRefreshCmd": "print(var_dic_list())"
    },
    "r": {
     "delete_cmd_postfix": ") ",
     "delete_cmd_prefix": "rm(",
     "library": "var_list.r",
     "varRefreshCmd": "cat(var_dic_list()) "
    }
   },
   "types_to_exclude": [
    "module",
    "function",
    "builtin_function_or_method",
    "instance",
    "_Feature"
   ],
   "window_display": false
  }
 },
 "nbformat": 4,
 "nbformat_minor": 5
}
