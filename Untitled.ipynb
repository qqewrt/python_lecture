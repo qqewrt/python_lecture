{
 "cells": [
  {
   "cell_type": "code",
   "execution_count": 1,
   "id": "112e2b6e",
   "metadata": {
    "ExecuteTime": {
     "end_time": "2021-05-24T06:16:06.031682Z",
     "start_time": "2021-05-24T06:16:06.026805Z"
    }
   },
   "outputs": [
    {
     "name": "stdout",
     "output_type": "stream",
     "text": [
      "Hello World\n"
     ]
    }
   ],
   "source": [
    "print(\"Hello World\")"
   ]
  },
  {
   "cell_type": "code",
   "execution_count": 1,
   "id": "48210901",
   "metadata": {
    "ExecuteTime": {
     "end_time": "2021-05-24T07:54:28.446097Z",
     "start_time": "2021-05-24T07:54:28.424624Z"
    }
   },
   "outputs": [
    {
     "name": "stdout",
     "output_type": "stream",
     "text": [
      "이름 :  홍길동\n"
     ]
    }
   ],
   "source": [
    "name = \"홍길동\"\n",
    "print(\"이름 : \", name)"
   ]
  },
  {
   "cell_type": "code",
   "execution_count": 2,
   "id": "ec5d8917",
   "metadata": {
    "ExecuteTime": {
     "end_time": "2021-05-24T07:58:20.001633Z",
     "start_time": "2021-05-24T07:58:19.996753Z"
    }
   },
   "outputs": [
    {
     "name": "stdout",
     "output_type": "stream",
     "text": [
      "이름 :  홍길동\n"
     ]
    }
   ],
   "source": [
    "name = \"홍길동\"\n",
    "print('이름 : ', name)"
   ]
  },
  {
   "cell_type": "code",
   "execution_count": 3,
   "id": "3cbe3d5b",
   "metadata": {
    "ExecuteTime": {
     "end_time": "2021-05-24T07:59:07.001987Z",
     "start_time": "2021-05-24T07:59:06.996130Z"
    }
   },
   "outputs": [
    {
     "name": "stdout",
     "output_type": "stream",
     "text": [
      "사각형의 면적 : 50\n"
     ]
    }
   ],
   "source": [
    "width = 10\n",
    "height = 5\n",
    "rectangle_area = width * height\n",
    "print('사각형의 면적 :', rectangle_area)"
   ]
  },
  {
   "cell_type": "code",
   "execution_count": 4,
   "id": "80c8fe0b",
   "metadata": {
    "ExecuteTime": {
     "end_time": "2021-05-24T08:10:23.862450Z",
     "start_time": "2021-05-24T08:10:23.857571Z"
    }
   },
   "outputs": [
    {
     "name": "stdout",
     "output_type": "stream",
     "text": [
      "['False', 'None', 'True', 'and', 'as', 'assert', 'async', 'await', 'break', 'class', 'continue', 'def', 'del', 'elif', 'else', 'except', 'finally', 'for', 'from', 'global', 'if', 'import', 'in', 'is', 'lambda', 'nonlocal', 'not', 'or', 'pass', 'raise', 'return', 'try', 'while', 'with', 'yield']\n"
     ]
    }
   ],
   "source": [
    "import keyword\n",
    "print(keyword.kwlist)"
   ]
  },
  {
   "cell_type": "code",
   "execution_count": 5,
   "id": "0f456f7f",
   "metadata": {
    "ExecuteTime": {
     "end_time": "2021-05-24T08:12:15.507143Z",
     "start_time": "2021-05-24T08:12:15.502263Z"
    }
   },
   "outputs": [
    {
     "name": "stdout",
     "output_type": "stream",
     "text": [
      "안녕! 나는 홍길동 이야. 나는 나이가 27 살이야.\n"
     ]
    }
   ],
   "source": [
    "name = \"홍길동\"\n",
    "age = 27\n",
    "print(\"안녕! 나는\", name, \"이야. 나는 나이가\", age, \"살이야.\")"
   ]
  },
  {
   "cell_type": "code",
   "execution_count": 6,
   "id": "297cdfd7",
   "metadata": {
    "ExecuteTime": {
     "end_time": "2021-05-24T08:17:10.902451Z",
     "start_time": "2021-05-24T08:17:10.895620Z"
    }
   },
   "outputs": [
    {
     "name": "stdout",
     "output_type": "stream",
     "text": [
      "안녕! 나는 %s 이야. 나는 나이가 %d 살이야.\n"
     ]
    }
   ],
   "source": [
    "name = \"홍길동\"\n",
    "age = 27\n",
    "print(\"안녕! 나는 %s 이야. 나는 나이가 %d 살이야.\".format(name, age))"
   ]
  },
  {
   "cell_type": "code",
   "execution_count": 7,
   "id": "c36d6a4a",
   "metadata": {
    "ExecuteTime": {
     "end_time": "2021-05-24T08:17:31.446871Z",
     "start_time": "2021-05-24T08:17:31.285831Z"
    }
   },
   "outputs": [
    {
     "ename": "TypeError",
     "evalue": "format() argument 2 must be str, not int",
     "output_type": "error",
     "traceback": [
      "\u001b[1;31m---------------------------------------------------------------------------\u001b[0m",
      "\u001b[1;31mTypeError\u001b[0m                                 Traceback (most recent call last)",
      "\u001b[1;32m<ipython-input-7-eae6720feea1>\u001b[0m in \u001b[0;36m<module>\u001b[1;34m\u001b[0m\n\u001b[0;32m      1\u001b[0m \u001b[0mname\u001b[0m \u001b[1;33m=\u001b[0m \u001b[1;34m\"홍길동\"\u001b[0m\u001b[1;33m\u001b[0m\u001b[1;33m\u001b[0m\u001b[0m\n\u001b[0;32m      2\u001b[0m \u001b[0mage\u001b[0m \u001b[1;33m=\u001b[0m \u001b[1;36m27\u001b[0m\u001b[1;33m\u001b[0m\u001b[1;33m\u001b[0m\u001b[0m\n\u001b[1;32m----> 3\u001b[1;33m \u001b[0mprint\u001b[0m\u001b[1;33m(\u001b[0m\u001b[1;34m\"안녕! 나는 %s 이야. 나는 나이가 %d 살이야.\"\u001b[0m\u001b[1;33m,\u001b[0m \u001b[0mformat\u001b[0m\u001b[1;33m(\u001b[0m\u001b[0mname\u001b[0m\u001b[1;33m,\u001b[0m \u001b[0mage\u001b[0m\u001b[1;33m)\u001b[0m\u001b[1;33m)\u001b[0m\u001b[1;33m\u001b[0m\u001b[1;33m\u001b[0m\u001b[0m\n\u001b[0m",
      "\u001b[1;31mTypeError\u001b[0m: format() argument 2 must be str, not int"
     ]
    }
   ],
   "source": [
    "name = \"홍길동\"\n",
    "age = 27\n",
    "print(\"안녕! 나는 %s 이야. 나는 나이가 %d 살이야.\", format(name, age))"
   ]
  },
  {
   "cell_type": "code",
   "execution_count": 12,
   "id": "2ecc31c5",
   "metadata": {
    "ExecuteTime": {
     "end_time": "2021-05-24T08:22:30.144967Z",
     "start_time": "2021-05-24T08:22:30.138134Z"
    }
   },
   "outputs": [
    {
     "name": "stdout",
     "output_type": "stream",
     "text": [
      "안녕! 나는 홍길동 이야. 나는 나이가 27 살이야.\n",
      "안녕! 나는 홍길동 이야. 나는 나이가 27 살이야.\n",
      "안녕! 나는 홍길동 이야. 나는 나이가 27 살이야.\n"
     ]
    }
   ],
   "source": [
    "name = \"홍길동\"\n",
    "age = 27\n",
    "print('안녕! 나는', name, '이야. 나는 나이가', age, '살이야.')\n",
    "print(\"안녕! 나는 %s 이야. 나는 나이가 %d 살이야.\" %(name,age))\n",
    "print(f'안녕! 나는 {name} 이야. 나는 나이가 {age} 살이야.')"
   ]
  },
  {
   "cell_type": "code",
   "execution_count": 13,
   "id": "9fff93ea",
   "metadata": {
    "ExecuteTime": {
     "end_time": "2021-05-24T08:24:56.721865Z",
     "start_time": "2021-05-24T08:24:56.715030Z"
    }
   },
   "outputs": [
    {
     "name": "stdout",
     "output_type": "stream",
     "text": [
      "안녕! 나는 홍길동 이야. 나는 나이가 27 살이야.\n",
      "안녕! 나는 홍길동 이야. 나는 나이가 27 살이야.\n",
      "안녕! 나는 홍길동 이야. 나는 나이가 27 살이야.\n",
      "안녕! 나는 홍길동 이야. 나는 나이가 27 살이야.\n"
     ]
    }
   ],
   "source": [
    "name = \"홍길동\"\n",
    "age = 27\n",
    "print('안녕! 나는', name, '이야. 나는 나이가', age, '살이야.')\n",
    "print(\"안녕! 나는 %s 이야. 나는 나이가 %d 살이야.\" %(name,age))\n",
    "print(\"안녕! 나는 {0} 이야. 나는 나이가 {1} 살이야.\" .format(name,age))\n",
    "print(f'안녕! 나는 {name} 이야. 나는 나이가 {age} 살이야.')"
   ]
  },
  {
   "cell_type": "code",
   "execution_count": 14,
   "id": "5a0fc234",
   "metadata": {
    "ExecuteTime": {
     "end_time": "2021-05-24T08:29:03.809767Z",
     "start_time": "2021-05-24T08:29:03.794152Z"
    }
   },
   "outputs": [
    {
     "data": {
      "text/plain": [
       "1"
      ]
     },
     "execution_count": 14,
     "metadata": {},
     "output_type": "execute_result"
    }
   ],
   "source": [
    "10//9"
   ]
  },
  {
   "cell_type": "code",
   "execution_count": 15,
   "id": "a0142829",
   "metadata": {
    "ExecuteTime": {
     "end_time": "2021-05-24T08:29:09.418471Z",
     "start_time": "2021-05-24T08:29:09.411640Z"
    }
   },
   "outputs": [
    {
     "data": {
      "text/plain": [
       "0"
      ]
     },
     "execution_count": 15,
     "metadata": {},
     "output_type": "execute_result"
    }
   ],
   "source": [
    "10%2"
   ]
  },
  {
   "cell_type": "code",
   "execution_count": 16,
   "id": "1d141e15",
   "metadata": {
    "ExecuteTime": {
     "end_time": "2021-05-24T08:29:13.607206Z",
     "start_time": "2021-05-24T08:29:13.599394Z"
    }
   },
   "outputs": [
    {
     "data": {
      "text/plain": [
       "5"
      ]
     },
     "execution_count": 16,
     "metadata": {},
     "output_type": "execute_result"
    }
   ],
   "source": [
    "10//2"
   ]
  },
  {
   "cell_type": "code",
   "execution_count": 17,
   "id": "4f401e65",
   "metadata": {
    "ExecuteTime": {
     "end_time": "2021-05-24T08:30:22.095477Z",
     "start_time": "2021-05-24T08:30:22.088644Z"
    }
   },
   "outputs": [
    {
     "data": {
      "text/plain": [
       "8"
      ]
     },
     "execution_count": 17,
     "metadata": {},
     "output_type": "execute_result"
    }
   ],
   "source": [
    "2<<2"
   ]
  },
  {
   "cell_type": "code",
   "execution_count": 18,
   "id": "d024e0a1",
   "metadata": {
    "ExecuteTime": {
     "end_time": "2021-05-24T08:30:34.311952Z",
     "start_time": "2021-05-24T08:30:34.305121Z"
    }
   },
   "outputs": [
    {
     "data": {
      "text/plain": [
       "0"
      ]
     },
     "execution_count": 18,
     "metadata": {},
     "output_type": "execute_result"
    }
   ],
   "source": [
    "3>>2"
   ]
  },
  {
   "cell_type": "code",
   "execution_count": 19,
   "id": "1bdb3c8d",
   "metadata": {
    "ExecuteTime": {
     "end_time": "2021-05-24T08:30:37.368951Z",
     "start_time": "2021-05-24T08:30:37.362121Z"
    }
   },
   "outputs": [
    {
     "data": {
      "text/plain": [
       "12"
      ]
     },
     "execution_count": 19,
     "metadata": {},
     "output_type": "execute_result"
    }
   ],
   "source": [
    "3<<2"
   ]
  },
  {
   "cell_type": "code",
   "execution_count": null,
   "id": "67376919",
   "metadata": {},
   "outputs": [],
   "source": []
  }
 ],
 "metadata": {
  "hide_input": false,
  "kernelspec": {
   "display_name": "Python 3",
   "language": "python",
   "name": "python3"
  },
  "language_info": {
   "codemirror_mode": {
    "name": "ipython",
    "version": 3
   },
   "file_extension": ".py",
   "mimetype": "text/x-python",
   "name": "python",
   "nbconvert_exporter": "python",
   "pygments_lexer": "ipython3",
   "version": "3.7.9"
  },
  "toc": {
   "base_numbering": 1,
   "nav_menu": {},
   "number_sections": true,
   "sideBar": true,
   "skip_h1_title": false,
   "title_cell": "Table of Contents",
   "title_sidebar": "Contents",
   "toc_cell": false,
   "toc_position": {
    "height": "calc(100% - 180px)",
    "left": "10px",
    "top": "150px",
    "width": "384px"
   },
   "toc_section_display": true,
   "toc_window_display": true
  },
  "varInspector": {
   "cols": {
    "lenName": 16,
    "lenType": 16,
    "lenVar": 40
   },
   "kernels_config": {
    "python": {
     "delete_cmd_postfix": "",
     "delete_cmd_prefix": "del ",
     "library": "var_list.py",
     "varRefreshCmd": "print(var_dic_list())"
    },
    "r": {
     "delete_cmd_postfix": ") ",
     "delete_cmd_prefix": "rm(",
     "library": "var_list.r",
     "varRefreshCmd": "cat(var_dic_list()) "
    }
   },
   "types_to_exclude": [
    "module",
    "function",
    "builtin_function_or_method",
    "instance",
    "_Feature"
   ],
   "window_display": false
  }
 },
 "nbformat": 4,
 "nbformat_minor": 5
}
