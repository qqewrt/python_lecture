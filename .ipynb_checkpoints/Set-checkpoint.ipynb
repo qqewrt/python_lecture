{
 "cells": [
  {
   "cell_type": "markdown",
   "id": "839c4099",
   "metadata": {},
   "source": [
    "# 02-6 집합 자료형\n",
    "\n",
    "- [집합 자료형은 어떻게 만들까?](https://wikidocs.net/1015#_1)\n",
    "- [집합 자료형의 특징](https://wikidocs.net/1015#_2)\n",
    "- [교집합, 합집합, 차집합 구하기](https://wikidocs.net/1015#_3)\n",
    "- 집합 자료형 관련 함수들\n",
    "  - [값 1개 추가하기(add)](https://wikidocs.net/1015#1-add)\n",
    "  - [값 여러 개 추가하기(update)](https://wikidocs.net/1015#update)\n",
    "  - [특정 값 제거하기(remove)](https://wikidocs.net/1015#remove)\n",
    "\n",
    "## 집합 자료형은 어떻게 만들까?\n",
    "\n",
    "집합(set)은 파이썬 2.3부터 지원하기 시작한 자료형으로, 집합에 관련된 것을 쉽게 처리하기 위해 만든 자료형이다.\n",
    "\n",
    "집합 자료형은 다음과 같이 set 키워드를 사용해 만들 수 있다.\n",
    "\n"
   ]
  },
  {
   "cell_type": "code",
   "execution_count": 2,
   "id": "f145b54b",
   "metadata": {
    "ExecuteTime": {
     "end_time": "2021-05-26T05:10:01.936279Z",
     "start_time": "2021-05-26T05:10:01.918711Z"
    }
   },
   "outputs": [
    {
     "data": {
      "text/plain": [
       "{1, 2, 3}"
      ]
     },
     "execution_count": 2,
     "metadata": {},
     "output_type": "execute_result"
    }
   ],
   "source": [
    "s1 = set([1,2,3])\n",
    "s1"
   ]
  },
  {
   "cell_type": "code",
   "execution_count": 3,
   "id": "e3648559",
   "metadata": {
    "ExecuteTime": {
     "end_time": "2021-05-26T05:10:13.955453Z",
     "start_time": "2021-05-26T05:10:13.947644Z"
    }
   },
   "outputs": [
    {
     "data": {
      "text/plain": [
       "{'H', 'e', 'l', 'o'}"
      ]
     },
     "execution_count": 3,
     "metadata": {},
     "output_type": "execute_result"
    }
   ],
   "source": [
    "s2 = set('Hello')\n",
    "s2"
   ]
  },
  {
   "cell_type": "markdown",
   "id": "7027d910",
   "metadata": {},
   "source": [
    "## 집합 자료형의 특징\n",
    "\n",
    "자, 그런데 위에서 살펴본 set(\"Hello\")의 결과가 좀 이상하지 않은가? 분명 \"Hello\" 문자열로 set 자료형을 만들었는데 생성된 자료형에는 l 문자가 하나 빠져 있고 순서도 뒤죽박죽이다. 그 이유는 set에 다음과 같은 2가지 큰 특징이 있기 때문이다.\n",
    "\n",
    "- 중복을 허용하지 않는다.\n",
    "- 순서가 없다(Unordered).\n",
    "\n",
    "리스트나 튜플은 순서가 있기(ordered) 때문에 인덱싱을 통해 자료형의 값을 얻을 수 있지만 set 자료형은 순서가 없기(unordered) 때문에 인덱싱으로 값을 얻을 수 없다. 이는 마치 02-5에서 살펴본 딕셔너리와 비슷하다. 딕셔너리 역시 순서가 없는 자료형이라 인덱싱을 지원하지 않는다.\n",
    "\n",
    "만약 set 자료형에 저장된 값을 인덱싱으로 접근하려면 다음과 같이 리스트나 튜플로 변환한후 해야 한다.\n",
    "\n",
    "> ※ 중복을 허용하지 않는 set의 특징은 자료형의 중복을 제거하기 위한 필터 역할로 종종 사용하기도 한다"
   ]
  },
  {
   "cell_type": "code",
   "execution_count": 4,
   "id": "47228f4e",
   "metadata": {
    "ExecuteTime": {
     "end_time": "2021-05-26T05:12:09.417831Z",
     "start_time": "2021-05-26T05:12:09.410020Z"
    }
   },
   "outputs": [
    {
     "data": {
      "text/plain": [
       "{1, 2, 3}"
      ]
     },
     "execution_count": 4,
     "metadata": {},
     "output_type": "execute_result"
    }
   ],
   "source": [
    "s1 = {1,2,1,2,1,2,3}\n",
    "s1"
   ]
  },
  {
   "cell_type": "markdown",
   "id": "9e2f1ca2",
   "metadata": {},
   "source": [
    "## 교집합, 합집합, 차집합 구하기\n",
    "\n",
    "set 자료형을 정말 유용하게 사용하는 경우는 교집합, 합집합, 차집합을 구할 때이다.\n",
    "\n",
    "우선 다음과 같이 2개의 set 자료형을 만든 후 따라 해 보자. s1은 1부터 6까지의 값을 가지게 되었고, s2는 4부터 9까지의 값을 가지게 되었다."
   ]
  },
  {
   "cell_type": "code",
   "execution_count": 5,
   "id": "5c80e06a",
   "metadata": {
    "ExecuteTime": {
     "end_time": "2021-05-26T05:22:03.900661Z",
     "start_time": "2021-05-26T05:22:03.895779Z"
    }
   },
   "outputs": [],
   "source": [
    "s1 = set([1, 2, 3, 4, 5, 6])\n",
    "s2 = set([4, 5, 6, 7, 8, 9])"
   ]
  },
  {
   "cell_type": "markdown",
   "id": "d0b45ad2",
   "metadata": {},
   "source": [
    "### 교집합\n",
    "\n",
    "s1과 s2의 교집합을 구해 보자."
   ]
  },
  {
   "cell_type": "code",
   "execution_count": 7,
   "id": "d540fb19",
   "metadata": {
    "ExecuteTime": {
     "end_time": "2021-05-26T05:24:18.756291Z",
     "start_time": "2021-05-26T05:24:18.748484Z"
    }
   },
   "outputs": [
    {
     "data": {
      "text/plain": [
       "{4, 5, 6}"
      ]
     },
     "execution_count": 7,
     "metadata": {},
     "output_type": "execute_result"
    }
   ],
   "source": [
    "s1 & s2"
   ]
  },
  {
   "cell_type": "code",
   "execution_count": 10,
   "id": "8600b75a",
   "metadata": {
    "ExecuteTime": {
     "end_time": "2021-05-26T05:24:38.734493Z",
     "start_time": "2021-05-26T05:24:38.728635Z"
    }
   },
   "outputs": [
    {
     "data": {
      "text/plain": [
       "{4, 5, 6}"
      ]
     },
     "execution_count": 10,
     "metadata": {},
     "output_type": "execute_result"
    }
   ],
   "source": [
    "s1.intersection(s2)"
   ]
  },
  {
   "cell_type": "code",
   "execution_count": 11,
   "id": "2baba105",
   "metadata": {
    "ExecuteTime": {
     "end_time": "2021-05-26T05:24:44.483147Z",
     "start_time": "2021-05-26T05:24:44.477290Z"
    }
   },
   "outputs": [
    {
     "data": {
      "text/plain": [
       "{4, 5, 6}"
      ]
     },
     "execution_count": 11,
     "metadata": {},
     "output_type": "execute_result"
    }
   ],
   "source": [
    "s2.intersection(s1)"
   ]
  },
  {
   "cell_type": "markdown",
   "id": "a0cc93d8",
   "metadata": {},
   "source": [
    "### 합집합\n",
    "\n",
    "합집합은 다음과 같이 구할 수 있다. 이때 4, 5, 6처럼 중복해서 포함된 값은 한 개씩만 표현된다."
   ]
  },
  {
   "cell_type": "code",
   "execution_count": 12,
   "id": "9eefda7d",
   "metadata": {
    "ExecuteTime": {
     "end_time": "2021-05-26T05:25:14.237535Z",
     "start_time": "2021-05-26T05:25:14.230703Z"
    }
   },
   "outputs": [
    {
     "data": {
      "text/plain": [
       "{1, 2, 3, 4, 5, 6, 7, 8, 9}"
      ]
     },
     "execution_count": 12,
     "metadata": {},
     "output_type": "execute_result"
    }
   ],
   "source": [
    "s1|s2"
   ]
  },
  {
   "cell_type": "code",
   "execution_count": 13,
   "id": "ce8507cc",
   "metadata": {
    "ExecuteTime": {
     "end_time": "2021-05-26T05:25:25.552598Z",
     "start_time": "2021-05-26T05:25:25.546743Z"
    }
   },
   "outputs": [
    {
     "data": {
      "text/plain": [
       "{1, 2, 3, 4, 5, 6, 7, 8, 9}"
      ]
     },
     "execution_count": 13,
     "metadata": {},
     "output_type": "execute_result"
    }
   ],
   "source": [
    "s1.union(s2)"
   ]
  },
  {
   "cell_type": "code",
   "execution_count": 14,
   "id": "ea47e819",
   "metadata": {
    "ExecuteTime": {
     "end_time": "2021-05-26T05:25:32.176750Z",
     "start_time": "2021-05-26T05:25:32.169917Z"
    }
   },
   "outputs": [
    {
     "data": {
      "text/plain": [
       "{1, 2, 3, 4, 5, 6, 7, 8, 9}"
      ]
     },
     "execution_count": 14,
     "metadata": {},
     "output_type": "execute_result"
    }
   ],
   "source": [
    "s2.union(s1)"
   ]
  },
  {
   "cell_type": "markdown",
   "id": "cc6e6b6d",
   "metadata": {},
   "source": [
    "### 차집합\n",
    "\n",
    "차집합은 다음과 같이 구할 수 있다."
   ]
  },
  {
   "cell_type": "code",
   "execution_count": 15,
   "id": "8b976ec6",
   "metadata": {
    "ExecuteTime": {
     "end_time": "2021-05-26T05:25:52.198536Z",
     "start_time": "2021-05-26T05:25:52.191704Z"
    }
   },
   "outputs": [
    {
     "data": {
      "text/plain": [
       "{1, 2, 3}"
      ]
     },
     "execution_count": 15,
     "metadata": {},
     "output_type": "execute_result"
    }
   ],
   "source": [
    "s1 - s2"
   ]
  },
  {
   "cell_type": "code",
   "execution_count": 16,
   "id": "8911734d",
   "metadata": {
    "ExecuteTime": {
     "end_time": "2021-05-26T05:26:03.375748Z",
     "start_time": "2021-05-26T05:26:03.368916Z"
    }
   },
   "outputs": [
    {
     "data": {
      "text/plain": [
       "{7, 8, 9}"
      ]
     },
     "execution_count": 16,
     "metadata": {},
     "output_type": "execute_result"
    }
   ],
   "source": [
    "s2 - s1"
   ]
  },
  {
   "cell_type": "code",
   "execution_count": 17,
   "id": "a170f012",
   "metadata": {
    "ExecuteTime": {
     "end_time": "2021-05-26T05:26:55.273443Z",
     "start_time": "2021-05-26T05:26:55.267588Z"
    }
   },
   "outputs": [
    {
     "data": {
      "text/plain": [
       "{1, 2, 3}"
      ]
     },
     "execution_count": 17,
     "metadata": {},
     "output_type": "execute_result"
    }
   ],
   "source": [
    "s1.difference(s2)"
   ]
  },
  {
   "cell_type": "code",
   "execution_count": 18,
   "id": "d56af5ec",
   "metadata": {
    "ExecuteTime": {
     "end_time": "2021-05-26T05:27:01.462062Z",
     "start_time": "2021-05-26T05:27:01.455232Z"
    }
   },
   "outputs": [
    {
     "data": {
      "text/plain": [
       "{7, 8, 9}"
      ]
     },
     "execution_count": 18,
     "metadata": {},
     "output_type": "execute_result"
    }
   ],
   "source": [
    "s2.difference(s1)"
   ]
  },
  {
   "cell_type": "markdown",
   "id": "eaf7d830",
   "metadata": {},
   "source": [
    "#### 대칭차집합"
   ]
  },
  {
   "cell_type": "code",
   "execution_count": 19,
   "id": "801464fe",
   "metadata": {
    "ExecuteTime": {
     "end_time": "2021-05-26T05:28:44.387266Z",
     "start_time": "2021-05-26T05:28:44.381410Z"
    }
   },
   "outputs": [
    {
     "data": {
      "text/plain": [
       "{1, 2, 3, 7, 8, 9}"
      ]
     },
     "execution_count": 19,
     "metadata": {},
     "output_type": "execute_result"
    }
   ],
   "source": [
    "s1 ^ s2"
   ]
  },
  {
   "cell_type": "code",
   "execution_count": 20,
   "id": "c14d2d84",
   "metadata": {
    "ExecuteTime": {
     "end_time": "2021-05-26T05:29:52.480046Z",
     "start_time": "2021-05-26T05:29:52.475165Z"
    }
   },
   "outputs": [
    {
     "data": {
      "text/plain": [
       "{1, 2, 3, 7, 8, 9}"
      ]
     },
     "execution_count": 20,
     "metadata": {},
     "output_type": "execute_result"
    }
   ],
   "source": [
    "set.symmetric_difference(s1,s2)"
   ]
  },
  {
   "cell_type": "code",
   "execution_count": 23,
   "id": "ff4be5ee",
   "metadata": {
    "ExecuteTime": {
     "end_time": "2021-05-26T05:36:08.685885Z",
     "start_time": "2021-05-26T05:36:08.678077Z"
    }
   },
   "outputs": [
    {
     "data": {
      "text/plain": [
       "{'1': 2, '5': 6, '3': 4}"
      ]
     },
     "execution_count": 23,
     "metadata": {},
     "output_type": "execute_result"
    }
   ],
   "source": [
    "dict({('1',2),('3',4),('5',6)})"
   ]
  },
  {
   "cell_type": "code",
   "execution_count": 22,
   "id": "6ce354e5",
   "metadata": {
    "ExecuteTime": {
     "end_time": "2021-05-26T05:31:18.258271Z",
     "start_time": "2021-05-26T05:31:18.251438Z"
    }
   },
   "outputs": [
    {
     "data": {
      "text/plain": [
       "[(1, 2), (3, 4), (5, 6)]"
      ]
     },
     "execution_count": 22,
     "metadata": {},
     "output_type": "execute_result"
    }
   ],
   "source": []
  },
  {
   "cell_type": "code",
   "execution_count": null,
   "id": "91267c35",
   "metadata": {},
   "outputs": [],
   "source": []
  }
 ],
 "metadata": {
  "hide_input": false,
  "kernelspec": {
   "display_name": "Python 3",
   "language": "python",
   "name": "python3"
  },
  "language_info": {
   "codemirror_mode": {
    "name": "ipython",
    "version": 3
   },
   "file_extension": ".py",
   "mimetype": "text/x-python",
   "name": "python",
   "nbconvert_exporter": "python",
   "pygments_lexer": "ipython3",
   "version": "3.7.9"
  },
  "toc": {
   "base_numbering": 1,
   "nav_menu": {},
   "number_sections": true,
   "sideBar": true,
   "skip_h1_title": false,
   "title_cell": "Table of Contents",
   "title_sidebar": "Contents",
   "toc_cell": false,
   "toc_position": {},
   "toc_section_display": true,
   "toc_window_display": false
  },
  "varInspector": {
   "cols": {
    "lenName": 16,
    "lenType": 16,
    "lenVar": 40
   },
   "kernels_config": {
    "python": {
     "delete_cmd_postfix": "",
     "delete_cmd_prefix": "del ",
     "library": "var_list.py",
     "varRefreshCmd": "print(var_dic_list())"
    },
    "r": {
     "delete_cmd_postfix": ") ",
     "delete_cmd_prefix": "rm(",
     "library": "var_list.r",
     "varRefreshCmd": "cat(var_dic_list()) "
    }
   },
   "types_to_exclude": [
    "module",
    "function",
    "builtin_function_or_method",
    "instance",
    "_Feature"
   ],
   "window_display": false
  }
 },
 "nbformat": 4,
 "nbformat_minor": 5
}
