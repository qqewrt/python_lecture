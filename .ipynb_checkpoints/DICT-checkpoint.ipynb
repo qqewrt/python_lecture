{
 "cells": [
  {
   "cell_type": "markdown",
   "id": "ff257526",
   "metadata": {},
   "source": [
    "# 2-5 딕셔너리 자료형\n",
    "\n",
    "- [딕셔너리란?](https://wikidocs.net/16#_1)\n",
    "- [딕셔너리는 어떻게 만들까?](https://wikidocs.net/16#_2)\n",
    "- 딕셔너리 쌍 추가, 삭제하기\n",
    "  - [딕셔너리 쌍 추가하기](https://wikidocs.net/16#_4)\n",
    "  - [딕셔너리 요소 삭제하기](https://wikidocs.net/16#_5)\n",
    "- 딕셔너리를 사용하는 방법\n",
    "  - [딕셔너리에서 Key 사용해 Value 얻기](https://wikidocs.net/16#key-value)\n",
    "  - [딕셔너리 만들 때 주의할 사항](https://wikidocs.net/16#_7)\n",
    "- 딕셔너리 관련 함수들\n",
    "  - [Key 리스트 만들기(keys)](https://wikidocs.net/16#key-keys)\n",
    "  - [Value 리스트 만들기(values)](https://wikidocs.net/16#value-values)\n",
    "  - [Key, Value 쌍 얻기(items)](https://wikidocs.net/16#key-value-items)\n",
    "  - [Key: Value 쌍 모두 지우기(clear)](https://wikidocs.net/16#key-value-clear)\n",
    "  - [Key로 Value얻기(get)](https://wikidocs.net/16#key-valueget)\n",
    "  - [해당 Key가 딕셔너리 안에 있는지 조사하기(in)](https://wikidocs.net/16#key-in)"
   ]
  },
  {
   "cell_type": "markdown",
   "id": "0cce64f3",
   "metadata": {},
   "source": [
    "## 딕셔너리란?\n",
    "\n",
    "사람은 누구든지 \"이름\" = \"홍길동\", \"생일\" = \"몇 월 며칠\" 등으로 구별할 수 있다. 파이썬은 영리하게도 이러한 대응 관계를 나타낼 수 있는 자료형을 가지고 있다. 요즘 사용하는 대부분의 언어도 이러한 대응 관계를 나타내는 자료형을 갖고 있는데, 이를 연관 배열(Associative array) 또는 해시(Hash)라고 한다.\n",
    "\n",
    "파이썬에서는 이러한 자료형을 딕셔너리(Dictionary)라고 하는데, 단어 그대로 해석하면 사전이라는 뜻이다. 즉 \"people\"이라는 단어에 \"사람\", \"baseball\"이라는 단어에 \"야구\"라는 뜻이 부합되듯이 딕셔너리는 Key와 Value를 한 쌍으로 갖는 자료형이다. 예컨대 Key가 \"baseball\"이라면 Value는 \"야구\"가 될 것이다.\n",
    "\n",
    "딕셔너리는 리스트나 튜플처럼 순차적으로(sequential) 해당 요솟값을 구하지 않고 Key를 통해 Value를 얻는다. 이것이 바로 딕셔너리의 가장 큰 특징이다. baseball이라는 단어의 뜻을 찾기 위해 사전의 내용을 순차적으로 모두 검색하는 것이 아니라 baseball이라는 단어가 있는 곳만 펼쳐 보는 것이다."
   ]
  },
  {
   "cell_type": "markdown",
   "id": "7ff780a8",
   "metadata": {},
   "source": [
    "## 딕셔너리는 어떻게 만들까?\n",
    "\n",
    "다음은 기본 딕셔너리의 모습이다.\n",
    "\n",
    "```\n",
    "{Key1:Value1, Key2:Value2, Key3:Value3, ...}\n",
    "```\n",
    "\n",
    "Key와 Value의 쌍 여러 개가 { }로 둘러싸여 있다. 각각의 요소는 Key : Value 형태로 이루어져 있고 쉼표(,)로 구분되어 있다.\n",
    "\n"
   ]
  },
  {
   "cell_type": "code",
   "execution_count": 2,
   "id": "8885e8be",
   "metadata": {
    "ExecuteTime": {
     "end_time": "2021-05-26T02:57:51.505088Z",
     "start_time": "2021-05-26T02:57:51.498253Z"
    }
   },
   "outputs": [
    {
     "data": {
      "text/plain": [
       "2"
      ]
     },
     "execution_count": 2,
     "metadata": {},
     "output_type": "execute_result"
    }
   ],
   "source": [
    "a = {'a':1,'b':2}\n",
    "len(a)"
   ]
  },
  {
   "cell_type": "code",
   "execution_count": 3,
   "id": "26264164",
   "metadata": {
    "ExecuteTime": {
     "end_time": "2021-05-26T02:58:03.296448Z",
     "start_time": "2021-05-26T02:58:03.289613Z"
    }
   },
   "outputs": [
    {
     "data": {
      "text/plain": [
       "1"
      ]
     },
     "execution_count": 3,
     "metadata": {},
     "output_type": "execute_result"
    }
   ],
   "source": [
    "a['a']"
   ]
  },
  {
   "cell_type": "markdown",
   "id": "03b78d89",
   "metadata": {},
   "source": [
    "## 딕셔너리 쌍 추가, 삭제하기\n",
    "\n",
    "딕셔너리 쌍을 추가하는 방법과 삭제하는 방법을 살펴보자. 먼저 딕셔너리에 쌍을 추가하는 다음 예를 함께 따라 해 보자."
   ]
  },
  {
   "cell_type": "code",
   "execution_count": 7,
   "id": "769a0c0c",
   "metadata": {
    "ExecuteTime": {
     "end_time": "2021-05-26T03:02:56.051373Z",
     "start_time": "2021-05-26T03:02:56.044540Z"
    }
   },
   "outputs": [
    {
     "data": {
      "text/plain": [
       "{'a': 24532}"
      ]
     },
     "execution_count": 7,
     "metadata": {},
     "output_type": "execute_result"
    }
   ],
   "source": [
    "a={}\n",
    "a['a']=24532\n",
    "a"
   ]
  },
  {
   "cell_type": "code",
   "execution_count": 8,
   "id": "740ce29b",
   "metadata": {
    "ExecuteTime": {
     "end_time": "2021-05-26T03:02:57.119664Z",
     "start_time": "2021-05-26T03:02:57.112829Z"
    }
   },
   "outputs": [
    {
     "data": {
      "text/plain": [
       "24532"
      ]
     },
     "execution_count": 8,
     "metadata": {},
     "output_type": "execute_result"
    }
   ],
   "source": [
    "a['a']"
   ]
  },
  {
   "cell_type": "code",
   "execution_count": 9,
   "id": "e4331a5f",
   "metadata": {
    "ExecuteTime": {
     "end_time": "2021-05-26T03:03:57.990091Z",
     "start_time": "2021-05-26T03:03:57.982280Z"
    }
   },
   "outputs": [
    {
     "data": {
      "text/plain": [
       "{'a': 123425, 'b': 295}"
      ]
     },
     "execution_count": 9,
     "metadata": {},
     "output_type": "execute_result"
    }
   ],
   "source": [
    "a = {'a':123425,'b':295}\n",
    "a"
   ]
  },
  {
   "cell_type": "code",
   "execution_count": 10,
   "id": "5fae7b76",
   "metadata": {
    "ExecuteTime": {
     "end_time": "2021-05-26T03:04:08.381225Z",
     "start_time": "2021-05-26T03:04:08.374392Z"
    }
   },
   "outputs": [
    {
     "data": {
      "text/plain": [
       "{'a': 242, 'b': 295}"
      ]
     },
     "execution_count": 10,
     "metadata": {},
     "output_type": "execute_result"
    }
   ],
   "source": [
    "a['a']=242\n",
    "a"
   ]
  },
  {
   "cell_type": "markdown",
   "id": "76667f0d",
   "metadata": {},
   "source": [
    "## 딕셔너리 요소 삭제하기"
   ]
  },
  {
   "cell_type": "code",
   "execution_count": 13,
   "id": "39740604",
   "metadata": {
    "ExecuteTime": {
     "end_time": "2021-05-26T03:10:08.519986Z",
     "start_time": "2021-05-26T03:10:08.512176Z"
    }
   },
   "outputs": [
    {
     "data": {
      "text/plain": [
       "{2: 'Mittag', 3: 'Abend'}"
      ]
     },
     "execution_count": 13,
     "metadata": {},
     "output_type": "execute_result"
    }
   ],
   "source": [
    "a ={1:'Morgen',2:'Mittag',3:'Abend'}\n",
    "del a[1]\n",
    "a"
   ]
  },
  {
   "cell_type": "markdown",
   "id": "da57ff36",
   "metadata": {},
   "source": [
    "## 딕셔너리 관련 함수들\n",
    "\n",
    "* 딕셔너리를 자유자재로 사용하기 위해 딕셔너리가 자체적으로 가지고 있는 관련 함수를 사용해 보자.\n",
    "\n",
    "\n",
    "### Key 리스트 만들기(keys)"
   ]
  },
  {
   "cell_type": "code",
   "execution_count": 15,
   "id": "76e58b7e",
   "metadata": {
    "ExecuteTime": {
     "end_time": "2021-05-26T03:12:58.367158Z",
     "start_time": "2021-05-26T03:12:58.360328Z"
    }
   },
   "outputs": [
    {
     "data": {
      "text/plain": [
       "dict_keys([1, 2, 'Morgen', 4])"
      ]
     },
     "execution_count": 15,
     "metadata": {},
     "output_type": "execute_result"
    }
   ],
   "source": [
    "a = {1:'a', 2:'b', 'Morgen':'Frühstück', 4: 'Do widzenia'}\n",
    "a.keys()"
   ]
  },
  {
   "cell_type": "markdown",
   "id": "566bee00",
   "metadata": {},
   "source": [
    "### Value 리스트 만들기(values)"
   ]
  },
  {
   "cell_type": "code",
   "execution_count": 16,
   "id": "0b107e88",
   "metadata": {
    "ExecuteTime": {
     "end_time": "2021-05-26T03:13:36.464681Z",
     "start_time": "2021-05-26T03:13:36.457847Z"
    }
   },
   "outputs": [
    {
     "data": {
      "text/plain": [
       "dict_values(['a', 'b', 'Frühstück', 'Do widzenia'])"
      ]
     },
     "execution_count": 16,
     "metadata": {},
     "output_type": "execute_result"
    }
   ],
   "source": [
    "a.values()"
   ]
  },
  {
   "cell_type": "markdown",
   "id": "c14c9420",
   "metadata": {},
   "source": [
    "## Key, Value 쌍 얻기(items)"
   ]
  },
  {
   "cell_type": "code",
   "execution_count": 17,
   "id": "592fa8e3",
   "metadata": {
    "ExecuteTime": {
     "end_time": "2021-05-26T03:14:33.697792Z",
     "start_time": "2021-05-26T03:14:33.689985Z"
    }
   },
   "outputs": [
    {
     "data": {
      "text/plain": [
       "dict_items([(1, 'a'), (2, 'b'), ('Morgen', 'Frühstück'), (4, 'Do widzenia')])"
      ]
     },
     "execution_count": 17,
     "metadata": {},
     "output_type": "execute_result"
    }
   ],
   "source": [
    "a.items()"
   ]
  },
  {
   "cell_type": "code",
   "execution_count": 20,
   "id": "930b2b2a",
   "metadata": {
    "ExecuteTime": {
     "end_time": "2021-05-26T03:19:07.276481Z",
     "start_time": "2021-05-26T03:19:07.266721Z"
    }
   },
   "outputs": [
    {
     "data": {
      "text/plain": [
       "{1: '안녕하세요', 2: 'Hello', 3: 'Guten Tag', 4: 'Dzien dobry', 5: 'Ohaio'}"
      ]
     },
     "execution_count": 20,
     "metadata": {},
     "output_type": "execute_result"
    }
   ],
   "source": [
    "item_list = [(1,'안녕하세요'),(2,'Hello'),(3,'Guten Tag'),(4,'Dzien dobry'),(5,'Ohaio')]\n",
    "\n",
    "greet_dict = dict(item_list)\n",
    "greet_dict"
   ]
  },
  {
   "cell_type": "markdown",
   "id": "504e4343",
   "metadata": {},
   "source": [
    "## Key: Value 쌍 모두 지우기(clear)"
   ]
  },
  {
   "cell_type": "code",
   "execution_count": 22,
   "id": "ba3a94f1",
   "metadata": {
    "ExecuteTime": {
     "end_time": "2021-05-26T05:07:18.015433Z",
     "start_time": "2021-05-26T05:07:18.008600Z"
    }
   },
   "outputs": [
    {
     "data": {
      "text/plain": [
       "{}"
      ]
     },
     "execution_count": 22,
     "metadata": {},
     "output_type": "execute_result"
    }
   ],
   "source": [
    "a = {1:'a', 2:'b', 'Morgen':'Frühstück', 4: 'Do widzenia'}\n",
    "a.clear()\n",
    "a"
   ]
  }
 ],
 "metadata": {
  "hide_input": false,
  "kernelspec": {
   "display_name": "Python 3",
   "language": "python",
   "name": "python3"
  },
  "language_info": {
   "codemirror_mode": {
    "name": "ipython",
    "version": 3
   },
   "file_extension": ".py",
   "mimetype": "text/x-python",
   "name": "python",
   "nbconvert_exporter": "python",
   "pygments_lexer": "ipython3",
   "version": "3.7.9"
  },
  "toc": {
   "base_numbering": 1,
   "nav_menu": {},
   "number_sections": true,
   "sideBar": true,
   "skip_h1_title": false,
   "title_cell": "Table of Contents",
   "title_sidebar": "Contents",
   "toc_cell": false,
   "toc_position": {},
   "toc_section_display": true,
   "toc_window_display": false
  },
  "varInspector": {
   "cols": {
    "lenName": 16,
    "lenType": 16,
    "lenVar": 40
   },
   "kernels_config": {
    "python": {
     "delete_cmd_postfix": "",
     "delete_cmd_prefix": "del ",
     "library": "var_list.py",
     "varRefreshCmd": "print(var_dic_list())"
    },
    "r": {
     "delete_cmd_postfix": ") ",
     "delete_cmd_prefix": "rm(",
     "library": "var_list.r",
     "varRefreshCmd": "cat(var_dic_list()) "
    }
   },
   "types_to_exclude": [
    "module",
    "function",
    "builtin_function_or_method",
    "instance",
    "_Feature"
   ],
   "window_display": false
  }
 },
 "nbformat": 4,
 "nbformat_minor": 5
}
