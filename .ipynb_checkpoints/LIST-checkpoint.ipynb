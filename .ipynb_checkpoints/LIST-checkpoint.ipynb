{
 "cells": [
  {
   "cell_type": "code",
   "execution_count": 2,
   "id": "2006f1a2",
   "metadata": {
    "ExecuteTime": {
     "end_time": "2021-05-26T00:27:45.292014Z",
     "start_time": "2021-05-26T00:27:45.284205Z"
    }
   },
   "outputs": [
    {
     "data": {
      "text/plain": [
       "list"
      ]
     },
     "execution_count": 2,
     "metadata": {},
     "output_type": "execute_result"
    }
   ],
   "source": [
    "even_list = [2,4,6,8,10]\n",
    "type(even_list)"
   ]
  },
  {
   "cell_type": "code",
   "execution_count": 4,
   "id": "80c65f0d",
   "metadata": {
    "ExecuteTime": {
     "end_time": "2021-05-26T00:28:25.512989Z",
     "start_time": "2021-05-26T00:28:25.507133Z"
    }
   },
   "outputs": [
    {
     "data": {
      "text/plain": [
       "range"
      ]
     },
     "execution_count": 4,
     "metadata": {},
     "output_type": "execute_result"
    }
   ],
   "source": [
    "list_data = range(19)\n",
    "type(list_data)"
   ]
  },
  {
   "cell_type": "code",
   "execution_count": 11,
   "id": "3c8158b9",
   "metadata": {
    "ExecuteTime": {
     "end_time": "2021-05-26T00:33:32.545346Z",
     "start_time": "2021-05-26T00:33:32.531684Z"
    }
   },
   "outputs": [
    {
     "ename": "AttributeError",
     "evalue": "'range' object has no attribute 'append'",
     "output_type": "error",
     "traceback": [
      "\u001b[1;31m---------------------------------------------------------------------------\u001b[0m",
      "\u001b[1;31mAttributeError\u001b[0m                            Traceback (most recent call last)",
      "\u001b[1;32m<ipython-input-11-65f9358a47dd>\u001b[0m in \u001b[0;36m<module>\u001b[1;34m\u001b[0m\n\u001b[0;32m      2\u001b[0m \u001b[1;32mfor\u001b[0m \u001b[0mi\u001b[0m \u001b[1;32min\u001b[0m \u001b[0mrange\u001b[0m\u001b[1;33m(\u001b[0m\u001b[1;36m1\u001b[0m\u001b[1;33m,\u001b[0m\u001b[1;36m11\u001b[0m\u001b[1;33m)\u001b[0m\u001b[1;33m:\u001b[0m\u001b[1;33m\u001b[0m\u001b[1;33m\u001b[0m\u001b[0m\n\u001b[0;32m      3\u001b[0m     \u001b[1;32mif\u001b[0m \u001b[0mi\u001b[0m\u001b[1;33m%\u001b[0m\u001b[1;36m2\u001b[0m \u001b[1;33m==\u001b[0m \u001b[1;36m0\u001b[0m\u001b[1;33m:\u001b[0m\u001b[1;33m\u001b[0m\u001b[1;33m\u001b[0m\u001b[0m\n\u001b[1;32m----> 4\u001b[1;33m         \u001b[0mlist_data\u001b[0m\u001b[1;33m.\u001b[0m\u001b[0mappend\u001b[0m\u001b[1;33m(\u001b[0m\u001b[0mi\u001b[0m\u001b[1;33m)\u001b[0m\u001b[1;33m\u001b[0m\u001b[1;33m\u001b[0m\u001b[0m\n\u001b[0m\u001b[0;32m      5\u001b[0m \u001b[1;33m\u001b[0m\u001b[0m\n\u001b[0;32m      6\u001b[0m \u001b[0mprint\u001b[0m\u001b[1;33m(\u001b[0m\u001b[0mlist_data\u001b[0m\u001b[1;33m)\u001b[0m\u001b[1;33m\u001b[0m\u001b[1;33m\u001b[0m\u001b[0m\n",
      "\u001b[1;31mAttributeError\u001b[0m: 'range' object has no attribute 'append'"
     ]
    }
   ],
   "source": [
    "list_date = []\n",
    "for i in range(1,11):\n",
    "    if i%2 == 0:\n",
    "        list_data.append(i)\n",
    "\n",
    "print(list_data)\n",
    "        "
   ]
  },
  {
   "cell_type": "markdown",
   "id": "cb6b5e92",
   "metadata": {},
   "source": [
    "# 리스트 자료형\n",
    "\n",
    "지금까지 우리는 숫자와 문자열에 대해서 알아보았다. 하지만 숫자와 문자열만으로 프로그래밍을 하기엔 부족한 점이 많다. 예를 들어 1부터 10까지의 숫자 중 홀수 모음인 1, 3, 5, 7, 9의 집합을 생각해 보자. 이런 숫자 모음을 숫자나 문자열로 표현하기는 쉽지 않다. 파이썬에는 이러한 불편함을 해소할 수 있는 자료형이 존재한다. 그것이 바로 여기에서 공부할 리스트(List)이다."
   ]
  },
  {
   "cell_type": "code",
   "execution_count": 14,
   "id": "7721c23e",
   "metadata": {
    "ExecuteTime": {
     "end_time": "2021-05-26T00:48:15.182187Z",
     "start_time": "2021-05-26T00:48:15.176332Z"
    }
   },
   "outputs": [
    {
     "data": {
      "text/plain": [
       "[1, 2, 3]"
      ]
     },
     "execution_count": 14,
     "metadata": {},
     "output_type": "execute_result"
    }
   ],
   "source": [
    "a = [1,2,3]\n",
    "a"
   ]
  },
  {
   "cell_type": "code",
   "execution_count": 21,
   "id": "64f7dadf",
   "metadata": {
    "ExecuteTime": {
     "end_time": "2021-05-26T00:50:33.922422Z",
     "start_time": "2021-05-26T00:50:33.915593Z"
    }
   },
   "outputs": [
    {
     "data": {
      "text/plain": [
       "0"
      ]
     },
     "execution_count": 21,
     "metadata": {},
     "output_type": "execute_result"
    }
   ],
   "source": [
    "a[0]+a[2]"
   ]
  },
  {
   "cell_type": "code",
   "execution_count": 23,
   "id": "fe5026c6",
   "metadata": {
    "ExecuteTime": {
     "end_time": "2021-05-26T01:11:21.315969Z",
     "start_time": "2021-05-26T01:11:21.309137Z"
    }
   },
   "outputs": [
    {
     "data": {
      "text/plain": [
       "3"
      ]
     },
     "execution_count": 23,
     "metadata": {},
     "output_type": "execute_result"
    }
   ],
   "source": [
    "a[-1]"
   ]
  },
  {
   "cell_type": "code",
   "execution_count": 24,
   "id": "11d34ec7",
   "metadata": {
    "ExecuteTime": {
     "end_time": "2021-05-26T01:11:33.751116Z",
     "start_time": "2021-05-26T01:11:33.746235Z"
    }
   },
   "outputs": [],
   "source": [
    "a=[1,2,3,['a','b','c']]"
   ]
  },
  {
   "cell_type": "code",
   "execution_count": 27,
   "id": "6f143971",
   "metadata": {
    "ExecuteTime": {
     "end_time": "2021-05-26T01:13:23.077781Z",
     "start_time": "2021-05-26T01:13:23.069974Z"
    }
   },
   "outputs": [
    {
     "data": {
      "text/plain": [
       "'b'"
      ]
     },
     "execution_count": 27,
     "metadata": {},
     "output_type": "execute_result"
    }
   ],
   "source": [
    "a[3][1]"
   ]
  },
  {
   "cell_type": "code",
   "execution_count": 28,
   "id": "261c3e94",
   "metadata": {
    "ExecuteTime": {
     "end_time": "2021-05-26T01:13:27.310510Z",
     "start_time": "2021-05-26T01:13:27.305628Z"
    }
   },
   "outputs": [],
   "source": [
    "a = [1, 2, ['a', 'b', ['Life', 'is']]]"
   ]
  },
  {
   "cell_type": "code",
   "execution_count": 29,
   "id": "35baac66",
   "metadata": {
    "ExecuteTime": {
     "end_time": "2021-05-26T01:13:47.138993Z",
     "start_time": "2021-05-26T01:13:47.132164Z"
    }
   },
   "outputs": [
    {
     "data": {
      "text/plain": [
       "'Life'"
      ]
     },
     "execution_count": 29,
     "metadata": {},
     "output_type": "execute_result"
    }
   ],
   "source": [
    "a[-1][-1][0]"
   ]
  },
  {
   "cell_type": "markdown",
   "id": "93b754f3",
   "metadata": {},
   "source": [
    "# 리스트의 슬라이싱\n",
    "\n",
    "* 문자열과 마찬가지로 리스트에서도 슬라이싱 기법을 적용할 수 있다. 슬라이싱은 ‘나눈다’는 뜻이라고 했다.\n",
    "\n",
    "* 자, 그럼 리스트의 슬라이싱에 대해서 살펴보자."
   ]
  },
  {
   "cell_type": "code",
   "execution_count": 32,
   "id": "556239ef",
   "metadata": {
    "ExecuteTime": {
     "end_time": "2021-05-26T01:17:15.448614Z",
     "start_time": "2021-05-26T01:17:15.443735Z"
    }
   },
   "outputs": [],
   "source": [
    "a = [1,2,3,4,5]\n",
    "b = a[:2]\n",
    "c = a[2:]"
   ]
  },
  {
   "cell_type": "markdown",
   "id": "259b7e88",
   "metadata": {
    "ExecuteTime": {
     "end_time": "2021-05-26T01:17:37.646494Z",
     "start_time": "2021-05-26T01:17:37.641613Z"
    }
   },
   "source": [
    "# 리스트 연산하기\n",
    "\n",
    "* 리스트 역시 + 기호를 사용해서 더할 수 있고 `*` 기호를 사용해서 반복할 수 있다. 문자열과 마찬가지로 리스트에서도 되는지 직접 확인해 보자.\n",
    "\n",
    "## 리스트 더하기(+)"
   ]
  },
  {
   "cell_type": "code",
   "execution_count": 36,
   "id": "30ff74d1",
   "metadata": {
    "ExecuteTime": {
     "end_time": "2021-05-26T01:22:32.419952Z",
     "start_time": "2021-05-26T01:22:32.413120Z"
    }
   },
   "outputs": [
    {
     "data": {
      "text/plain": [
       "[1, 2, 3, 4, 5, 6]"
      ]
     },
     "execution_count": 36,
     "metadata": {},
     "output_type": "execute_result"
    }
   ],
   "source": [
    "a = [1,2,3]\n",
    "b = [4,5,6]\n",
    "\n",
    "a+b"
   ]
  },
  {
   "cell_type": "markdown",
   "id": "2a2b3341",
   "metadata": {},
   "source": [
    "## 리스트 반복하기(`*`)"
   ]
  },
  {
   "cell_type": "code",
   "execution_count": 38,
   "id": "59cfb8a1",
   "metadata": {
    "ExecuteTime": {
     "end_time": "2021-05-26T01:29:45.525488Z",
     "start_time": "2021-05-26T01:29:45.518656Z"
    }
   },
   "outputs": [
    {
     "data": {
      "text/plain": [
       "[1, 2, 3, 1, 2, 3, 1, 2, 3]"
      ]
     },
     "execution_count": 38,
     "metadata": {},
     "output_type": "execute_result"
    }
   ],
   "source": [
    "a*3"
   ]
  },
  {
   "cell_type": "markdown",
   "id": "b08b4bbe",
   "metadata": {},
   "source": [
    "## 리스트 길이구하기\n",
    "\n",
    "* 리스트 길이를 구하기 위해서는 다음처럼 len 함수를 사용해야 한다."
   ]
  },
  {
   "cell_type": "code",
   "execution_count": 39,
   "id": "a431cc90",
   "metadata": {
    "ExecuteTime": {
     "end_time": "2021-05-26T01:32:15.810636Z",
     "start_time": "2021-05-26T01:32:15.803295Z"
    }
   },
   "outputs": [
    {
     "data": {
      "text/plain": [
       "3"
      ]
     },
     "execution_count": 39,
     "metadata": {},
     "output_type": "execute_result"
    }
   ],
   "source": [
    "len(a)"
   ]
  },
  {
   "cell_type": "markdown",
   "id": "4dec80d3",
   "metadata": {},
   "source": [
    "# 리스트의 수정과 삭제\n",
    "\n",
    "* 리스트는 값을 수정하거나 삭제할 수 있다.\n",
    "\n",
    "## 리스트에서 값 수정하기"
   ]
  },
  {
   "cell_type": "code",
   "execution_count": 40,
   "id": "fbe94e6a",
   "metadata": {
    "ExecuteTime": {
     "end_time": "2021-05-26T01:34:05.894521Z",
     "start_time": "2021-05-26T01:34:05.887691Z"
    }
   },
   "outputs": [
    {
     "data": {
      "text/plain": [
       "[1, 2, 4]"
      ]
     },
     "execution_count": 40,
     "metadata": {},
     "output_type": "execute_result"
    }
   ],
   "source": [
    "a = [1, 2, 3]\n",
    "a[2] = 4\n",
    "a"
   ]
  },
  {
   "cell_type": "markdown",
   "id": "b334eb1b",
   "metadata": {},
   "source": [
    "## del 함수 사용해 리스트 요소 삭제하기"
   ]
  },
  {
   "cell_type": "code",
   "execution_count": 41,
   "id": "4caa7dc8",
   "metadata": {
    "ExecuteTime": {
     "end_time": "2021-05-26T01:35:12.077519Z",
     "start_time": "2021-05-26T01:35:12.069197Z"
    }
   },
   "outputs": [
    {
     "data": {
      "text/plain": [
       "[1, 3]"
      ]
     },
     "execution_count": 41,
     "metadata": {},
     "output_type": "execute_result"
    }
   ],
   "source": [
    "a = [1,2,3]\n",
    "del a[1]\n",
    "a"
   ]
  },
  {
   "cell_type": "markdown",
   "id": "9f97bbc0",
   "metadata": {},
   "source": [
    "## 리스트 요소 삭제하기(remove)\n",
    "\n",
    "* remove(x)는 리스트에서 첫 번째로 나오는 x를 삭제하는 함수이다."
   ]
  },
  {
   "cell_type": "code",
   "execution_count": 42,
   "id": "fe515362",
   "metadata": {
    "ExecuteTime": {
     "end_time": "2021-05-26T01:37:22.763001Z",
     "start_time": "2021-05-26T01:37:22.756171Z"
    }
   },
   "outputs": [
    {
     "data": {
      "text/plain": [
       "[1, 3, 4, 5]"
      ]
     },
     "execution_count": 42,
     "metadata": {},
     "output_type": "execute_result"
    }
   ],
   "source": [
    "a = [1,2,3,4,5]\n",
    "a.remove(2)\n",
    "a"
   ]
  },
  {
   "cell_type": "markdown",
   "id": "68e4b563",
   "metadata": {},
   "source": [
    "## 리스트 요소 끄집어내기(pop)\n",
    "\n",
    "* pop()은 리스트의 맨 마지막 요소를 돌려주고 그 요소는 삭제한다.\n",
    "\n"
   ]
  },
  {
   "cell_type": "code",
   "execution_count": 43,
   "id": "caba3614",
   "metadata": {
    "ExecuteTime": {
     "end_time": "2021-05-26T01:44:15.258089Z",
     "start_time": "2021-05-26T01:44:15.251257Z"
    }
   },
   "outputs": [
    {
     "data": {
      "text/plain": [
       "[1, 2, 4, 5]"
      ]
     },
     "execution_count": 43,
     "metadata": {},
     "output_type": "execute_result"
    }
   ],
   "source": [
    "a = [1,2,3,4,5]\n",
    "a.pop(2)\n",
    "a"
   ]
  },
  {
   "cell_type": "markdown",
   "id": "c57874b4",
   "metadata": {},
   "source": [
    "# 리스트 관련 함수들\n",
    "\n",
    "* 문자열과 마찬가지로 리스트 변수 이름 뒤에 '.'를 붙여서 여러 가지 리스트 관련 함수를 사용할 수 있다. 유용하게 사용되는 리스트 관련 함수 몇 가지에 대해서만 알아보기로 하자.\n",
    "\n",
    "## 리스트에 요소 추가(append)\n",
    "\n",
    "* append를 사전에서 검색해 보면 \"덧붙이다, 첨부하다\"라는 뜻이 있다. 이 뜻을 안다면 다음 예가 바로 이해될 것이다. append(x)는 리스트의 맨 마지막에 x를 추가하는 함수이다."
   ]
  },
  {
   "cell_type": "code",
   "execution_count": 44,
   "id": "b8bbc167",
   "metadata": {
    "ExecuteTime": {
     "end_time": "2021-05-26T01:45:57.547223Z",
     "start_time": "2021-05-26T01:45:57.540390Z"
    }
   },
   "outputs": [
    {
     "data": {
      "text/plain": [
       "[1, 2, 3, 4]"
      ]
     },
     "execution_count": 44,
     "metadata": {},
     "output_type": "execute_result"
    }
   ],
   "source": [
    "a = [1,2,3]\n",
    "a.append(4)\n",
    "a"
   ]
  },
  {
   "cell_type": "markdown",
   "id": "c4c93e89",
   "metadata": {},
   "source": [
    "## 리스트에 요소 삽입(insert)\n",
    "\n",
    "* insert(a, b)는 리스트의 a번째 위치에 b를 삽입하는 함수이다. 파이썬에서는 숫자를 0부터 센다는 것을 반드시 기억하자."
   ]
  },
  {
   "cell_type": "code",
   "execution_count": 45,
   "id": "a5f7607a",
   "metadata": {
    "ExecuteTime": {
     "end_time": "2021-05-26T01:48:33.721911Z",
     "start_time": "2021-05-26T01:48:33.715079Z"
    }
   },
   "outputs": [
    {
     "data": {
      "text/plain": [
       "[1, 2, 'c', 3, 4, 5, 6]"
      ]
     },
     "execution_count": 45,
     "metadata": {},
     "output_type": "execute_result"
    }
   ],
   "source": [
    "a = [1,2,3,4,5,6]\n",
    "a.insert(2,'c')\n",
    "a"
   ]
  },
  {
   "cell_type": "markdown",
   "id": "ca4e536d",
   "metadata": {},
   "source": [
    "## 리스트 정렬(sort)\n",
    "\n",
    "* sort 함수는 리스트의 요소를 순서대로 정렬해 준다. 문자 역시 알파벳 순서로 정렬할 수 있다."
   ]
  },
  {
   "cell_type": "code",
   "execution_count": 46,
   "id": "2f57a1fc",
   "metadata": {
    "ExecuteTime": {
     "end_time": "2021-05-26T01:51:02.191947Z",
     "start_time": "2021-05-26T01:51:02.185116Z"
    }
   },
   "outputs": [
    {
     "data": {
      "text/plain": [
       "[0, 1, 2, 3, 4, 6, 7, 8, 9]"
      ]
     },
     "execution_count": 46,
     "metadata": {},
     "output_type": "execute_result"
    }
   ],
   "source": [
    "a = [2,3,6,1,7,4,9,0,8]\n",
    "a.sort()\n",
    "a"
   ]
  },
  {
   "cell_type": "code",
   "execution_count": 47,
   "id": "90ae0a70",
   "metadata": {
    "ExecuteTime": {
     "end_time": "2021-05-26T01:52:42.051557Z",
     "start_time": "2021-05-26T01:52:42.044723Z"
    }
   },
   "outputs": [
    {
     "data": {
      "text/plain": [
       "['b', 'e', 'g', 'j', 'q', 'r', 'y', 'z']"
      ]
     },
     "execution_count": 47,
     "metadata": {},
     "output_type": "execute_result"
    }
   ],
   "source": [
    "a = ['e','y','r','z','g','q','b','j']\n",
    "a.sort()\n",
    "a"
   ]
  },
  {
   "cell_type": "code",
   "execution_count": 48,
   "id": "d39c2d89",
   "metadata": {
    "ExecuteTime": {
     "end_time": "2021-05-26T01:54:59.510544Z",
     "start_time": "2021-05-26T01:54:59.503712Z"
    }
   },
   "outputs": [
    {
     "data": {
      "text/plain": [
       "['감', '금', '석', '지', '착']"
      ]
     },
     "execution_count": 48,
     "metadata": {},
     "output_type": "execute_result"
    }
   ],
   "source": [
    "b = ['착','석','금','지','감']\n",
    "b.sort()\n",
    "b"
   ]
  },
  {
   "cell_type": "markdown",
   "id": "863b47f3",
   "metadata": {},
   "source": [
    "## 리스트 뒤집기(reverse)"
   ]
  },
  {
   "cell_type": "code",
   "execution_count": 52,
   "id": "3e7fbd95",
   "metadata": {
    "ExecuteTime": {
     "end_time": "2021-05-26T01:58:37.755765Z",
     "start_time": "2021-05-26T01:58:37.749910Z"
    }
   },
   "outputs": [
    {
     "data": {
      "text/plain": [
       "['e', 'd', 'c', 'b', 'a']"
      ]
     },
     "execution_count": 52,
     "metadata": {},
     "output_type": "execute_result"
    }
   ],
   "source": [
    "a = ['a','c','d','b','e']\n",
    "a.sort()\n",
    "a.reverse()\n",
    "a"
   ]
  },
  {
   "cell_type": "markdown",
   "id": "038bc1b5",
   "metadata": {},
   "source": [
    "## 위치 반환(index)\n",
    "\n",
    "* index(x) 함수는 리스트에 x 값이 있으면 x의 위치 값을 돌려준다."
   ]
  },
  {
   "cell_type": "code",
   "execution_count": null,
   "id": "77cde20b",
   "metadata": {},
   "outputs": [],
   "source": []
  }
 ],
 "metadata": {
  "hide_input": false,
  "kernelspec": {
   "display_name": "Python 3",
   "language": "python",
   "name": "python3"
  },
  "language_info": {
   "codemirror_mode": {
    "name": "ipython",
    "version": 3
   },
   "file_extension": ".py",
   "mimetype": "text/x-python",
   "name": "python",
   "nbconvert_exporter": "python",
   "pygments_lexer": "ipython3",
   "version": "3.7.9"
  },
  "toc": {
   "base_numbering": 1,
   "nav_menu": {},
   "number_sections": true,
   "sideBar": true,
   "skip_h1_title": false,
   "title_cell": "Table of Contents",
   "title_sidebar": "Contents",
   "toc_cell": false,
   "toc_position": {},
   "toc_section_display": true,
   "toc_window_display": false
  },
  "varInspector": {
   "cols": {
    "lenName": 16,
    "lenType": 16,
    "lenVar": 40
   },
   "kernels_config": {
    "python": {
     "delete_cmd_postfix": "",
     "delete_cmd_prefix": "del ",
     "library": "var_list.py",
     "varRefreshCmd": "print(var_dic_list())"
    },
    "r": {
     "delete_cmd_postfix": ") ",
     "delete_cmd_prefix": "rm(",
     "library": "var_list.r",
     "varRefreshCmd": "cat(var_dic_list()) "
    }
   },
   "types_to_exclude": [
    "module",
    "function",
    "builtin_function_or_method",
    "instance",
    "_Feature"
   ],
   "window_display": false
  }
 },
 "nbformat": 4,
 "nbformat_minor": 5
}
